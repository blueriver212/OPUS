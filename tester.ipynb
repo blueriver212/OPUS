{
 "cells": [
  {
   "cell_type": "code",
   "execution_count": 4,
   "metadata": {},
   "outputs": [],
   "source": [
    "import numpy as np\n",
    "\n",
    "matlab_array = np.array([\n",
    "    0.0000, 0.0000, 0.0000, 0.0003, 0.0007, 0.0057, 0.0167, 0.0620, 0.3533, 0.0118,\n",
    "    0.0100, 0.0129, 0.0130, 0.0083, 0.0164, 0.0099, 0.0334, 0.0227, 0.0195, 0.0060,\n",
    "    0.0091, 0.0059, 0.0177, 0.0012, 0.0015, 0.0027, 0.0005, 0.0002, 0.0004, 0.0001,\n",
    "    0.0000, 0.0001, 0.0001, 0.0002, 0.0035, 0.0032, 0.0047, 0.0017, 0.0003, 0.0002\n",
    "])\n",
    "\n",
    "collision_prob = np.array([4.99991856e-12, 5.40182014e-11, 4.19961292e-10, 1.34637766e-08,\n",
    "       6.79983369e-08, 6.00295104e-08, 1.20032113e-07, 2.66802633e-07,\n",
    "       8.98930411e-07, 8.80751487e-06, 4.17778557e-07, 1.33149089e-07,\n",
    "       1.00542002e-07, 5.98276777e-08, 1.34791016e-07, 8.86661290e-08,\n",
    "       3.96680327e-07, 1.76478953e-07, 1.46706944e-07, 4.62532109e-08,\n",
    "       6.79677484e-08, 4.58876463e-08, 1.34895526e-07, 9.29671902e-09,\n",
    "       1.20839416e-08, 1.81019639e-08, 3.80164504e-09, 1.40828565e-09,\n",
    "       5.75438655e-08, 3.51669081e-09, 3.38114415e-10, 9.31226641e-10,\n",
    "       8.90085771e-10, 1.50346651e-09, 2.68250166e-08, 2.47716852e-08,\n",
    "       3.59065795e-08, 1.30474948e-08, 2.02513485e-09, 1.22896967e-09])"
   ]
  },
  {
   "cell_type": "code",
   "execution_count": 7,
   "metadata": {},
   "outputs": [
    {
     "data": {
      "text/plain": [
       "107012.19506108307"
      ]
     },
     "execution_count": 7,
     "metadata": {},
     "output_type": "execute_result"
    }
   ],
   "source": [
    "scaling_factor = matlab_array / collision_prob\n",
    "\n",
    "np.mean(scaling_factor)"
   ]
  }
 ],
 "metadata": {
  "kernelspec": {
   "display_name": "pyssem-env",
   "language": "python",
   "name": "python3"
  },
  "language_info": {
   "codemirror_mode": {
    "name": "ipython",
    "version": 3
   },
   "file_extension": ".py",
   "mimetype": "text/x-python",
   "name": "python",
   "nbconvert_exporter": "python",
   "pygments_lexer": "ipython3",
   "version": "3.9.20"
  }
 },
 "nbformat": 4,
 "nbformat_minor": 2
}
